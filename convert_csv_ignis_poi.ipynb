{
 "cells": [
  {
   "cell_type": "code",
   "execution_count": 18,
   "metadata": {},
   "outputs": [
    {
     "name": "stdout",
     "output_type": "stream",
     "text": [
      "['black', 'red', 'black', 'magenta', 'black', 'magenta', 'black', 'magenta', 'black', 'magenta', 'black', 'magenta', 'blue', 'black', 'Finish'] [0, 9920, 10293, 10980, 13192, 13379, 14139, 14673, 14855, 15037, 15275, 15388, 16335, 16516, 17200]\n",
      "[99.2, 3.73, 6.87, 22.12, 1.87, 7.6, 5.34, 1.82, 1.82, 2.38, 1.13, 9.47, 1.81, 6.84]\n",
      "['99,2', '3,73', '6,87', '22,12', '1,87', '7,6', '5,34', '1,82', '1,82', '2,38', '1,13', '9,47', '1,81', '6,84']\n",
      "['black', 'red', 'magenta', 'blue', 'Finish']\n",
      "['black', 'red', 'black', 'magenta', 'black', 'magenta', 'black', 'magenta', 'black', 'magenta', 'black', 'magenta', 'blue', 'black', 'Finish']\n",
      "[11, 12, 11, 13, 11, 13, 11, 13, 11, 13, 11, 13, 14, 11, 15]\n",
      "Сохранено в roman.csv\n"
     ]
    }
   ],
   "source": [
    "def reformat(st):\n",
    "    fl = 0\n",
    "    if '(' in st:\n",
    "        st = st.split('(')[0]\n",
    "        fl = 1\n",
    "    sttir = st.split('-')\n",
    "    if not('Finish' in st):\n",
    "        namem = sttir[0].strip().split('_')[1:]\n",
    "        name = '_'.join(namem)\n",
    "    else:\n",
    "        name = 'Finish'\n",
    "    if fl == 1:\n",
    "        name+='*'\n",
    "    t = int(sttir[1].split(':')[0])*6000 + int(sttir[1].split(':')[1])*100 + int(sttir[1].split(':')[2])\n",
    "    return(name,t)\n",
    "file = open('roma.txt','r')\n",
    "name_m = []\n",
    "time_m = []\n",
    "for st in file:\n",
    "    name,time = reformat(st)\n",
    "    name_m.append(name)\n",
    "    time_m.append(time)\n",
    "    if 'Finish' in st:\n",
    "        break\n",
    "print(name_m,time_m)\n",
    "dt = []\n",
    "for i in range(len(time_m)-1):\n",
    "    dt.append((time_m[i+1] - time_m[i])/100)\n",
    "########################################################################\n",
    "#dt[0]+=1 ############################################### TAK KOGDA IS AUDACITY!!!!!!!!!!!\n",
    "##################################################################################\n",
    "print(dt)\n",
    "dts = []\n",
    "for el in dt:\n",
    "    dts.append(str(el).replace('.',','))\n",
    "print(dts)\n",
    "name_uniq = []\n",
    "name_id = []\n",
    "name_id_un = []\n",
    "n_id = 11\n",
    "for el in name_m:\n",
    "    if not(el in name_uniq):\n",
    "        name_uniq.append(el)\n",
    "        name_id_un.append(n_id)\n",
    "        name_id.append(n_id)\n",
    "        n_id+=1\n",
    "    else:\n",
    "        name_id.append(name_id_un[name_uniq.index(el)])\n",
    "print(name_uniq)\n",
    "print(name_m)\n",
    "print(name_id)\n",
    "file_out = open('roman.csv','w')\n",
    "file_out.write('Picture ID;Duration\\n')\n",
    "for idd,t in zip(name_id,dts):\n",
    "    if not(idd == name_id_un[len(name_id_un)-1]):\n",
    "        file_out.write(str(idd)+';'+t+'\\n')\n",
    "file_out.write('order;'+'|'.join(name_uniq))\n",
    "file_out.close()\n",
    "print('Сохранено в '+ 'roman.csv')"
   ]
  }
 ],
 "metadata": {
  "kernelspec": {
   "display_name": "Python 3",
   "language": "python",
   "name": "python3"
  },
  "language_info": {
   "codemirror_mode": {
    "name": "ipython",
    "version": 3
   },
   "file_extension": ".py",
   "mimetype": "text/x-python",
   "name": "python",
   "nbconvert_exporter": "python",
   "pygments_lexer": "ipython3",
   "version": "3.7.0"
  }
 },
 "nbformat": 4,
 "nbformat_minor": 2
}
