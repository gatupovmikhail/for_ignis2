{
 "cells": [
  {
   "cell_type": "code",
   "execution_count": 12,
   "metadata": {},
   "outputs": [
    {
     "name": "stdout",
     "output_type": "stream",
     "text": [
      "Успешно создана дирректория /home/gatupov/python/ignis\n"
     ]
    },
    {
     "data": {
      "text/plain": [
       "'/home/gatupov/python/ignis'"
      ]
     },
     "execution_count": 12,
     "metadata": {},
     "output_type": "execute_result"
    }
   ],
   "source": [
    "import os\n",
    "import tempfile\n",
    "def direct(name_file):\n",
    "    path=os.getcwd()\n",
    "    path+='/ignis'\n",
    "    path+='/'+name_file.split('.')[0]\n",
    "    try:\n",
    "        os.mkdir(path) # только на один уровень ниже. иначе исп. makedirs()\n",
    "    except OSError:\n",
    "        print('Создать дирректорию %s не удалось' % path)\n",
    "    else:\n",
    "        print('Успешно создана дирректория %s' % path)\n",
    "    return path\n",
    "\n",
    "direct('haha.txt')"
   ]
  },
  {
   "cell_type": "code",
   "execution_count": 1,
   "metadata": {},
   "outputs": [],
   "source": [
    "import random\n",
    "from PIL import Image, ImageDraw #Подключим необходимые библиотеки. \n",
    "image1 = Image.open(\"red.bmp\") #Открываем изображение. \n",
    "image2=Image.open('white_64.bmp')\n",
    "width = image1.size[0] #Определяем ширину. \n",
    "height1 = image1.size[1] #Определяем высоту.\n",
    "\n",
    "height2 = image2.size[1] #Определяем высоту.\n",
    "draw = ImageDraw.Draw(image2) #Создаем инструмент для рисования. \n",
    "pix = image1.load()\n",
    "\n",
    "for i in range(width):\n",
    "    k=-1\n",
    "    for j in range(height1):\n",
    "        a = pix[i, j][0]\n",
    "        b = pix[i, j][1]\n",
    "        c = pix[i, j][2]\n",
    "        k+=1\n",
    "        draw.point((i, k), (a, b, c))\n",
    "        k+=1\n",
    "        draw.point((i, k), (a, b, c))\n",
    "        \n",
    "image2.save(\"red_64.bmp\", \"BMP\")\n",
    "del draw\n",
    "            \n",
    "def direct64(path_pic,path,num,metka,'white_64.bmp'):\n",
    "    image1 = Image.open(path_pic+metka+'.bmp') #Открываем изображение. \n",
    "    image2=Image.open(path_pic+'white_64.bmp')\n",
    "    width = image1.size[0] #Определяем ширину. \n",
    "    height1 = image1.size[1] #Определяем высоту.\n",
    "\n",
    "    height2 = image2.size[1] #Определяем высоту.\n",
    "    draw = ImageDraw.Draw(image2) #Создаем инструмент для рисования. \n",
    "    pix = image1.load()\n",
    "\n",
    "    for i in range(width):\n",
    "        k=-1\n",
    "        for j in range(height1):\n",
    "            a = pix[i, j][0]\n",
    "            b = pix[i, j][1]\n",
    "            c = pix[i, j][2]\n",
    "            k+=1\n",
    "            draw.point((i, k), (a, b, c))\n",
    "            k+=1\n",
    "            draw.point((i, k), (a, b, c))\n",
    "\n",
    "    image2.save(path+'/'+'{:0>2}_{}.bmp'.format(num,metka), \"BMP\")\n",
    "    del draw"
   ]
  },
  {
   "cell_type": "code",
   "execution_count": 11,
   "metadata": {},
   "outputs": [
    {
     "name": "stdout",
     "output_type": "stream",
     "text": [
      "Создать дирректорию /home/gatupov/python/haha не удалось\n",
      "Успешно удалена директория /home/gatupov/python/ignis_directory\n"
     ]
    }
   ],
   "source": [
    "# yдаление   \n",
    "try:\n",
    "    os.rmdir(path)\n",
    "except OSError:\n",
    "    print (\"Удалить директорию %s не удалось\" % path)\n",
    "else:\n",
    "    print (\"Успешно удалена директория %s\" % path)"
   ]
  },
  {
   "cell_type": "code",
   "execution_count": 6,
   "metadata": {},
   "outputs": [
    {
     "name": "stdout",
     "output_type": "stream",
     "text": [
      "Создана временная директория /tmp/tmpsl295g_0\n"
     ]
    }
   ],
   "source": [
    "# создаём временную директорию\n",
    "with tempfile.TemporaryDirectory() as directory:\n",
    "    print('Создана временная директория %s' % directory)\n",
    "\n",
    "# каталог и его содержимое удалены"
   ]
  },
  {
   "cell_type": "code",
   "execution_count": 18,
   "metadata": {},
   "outputs": [],
   "source": [
    "from PIL import Image\n",
    "\n",
    "pa='/home/gatupov/python/ignis/'\n",
    "#image = Image.open(pa+'wave_blue.bmp')\n",
    "#image.save('ignis/ans.bmp', \"BMP\")\n",
    "def ren(path_pic,path,num,metka):\n",
    "    image=Image.open(path_pic+metka+'.bmp')\n",
    "    image.save(path+'/'+'{:0>2}_{}.bmp'.format(num,metka), \"BMP\")\n",
    "ren(pa+'pictures/',pa+'miss_d_stena',10,'wave_blue')"
   ]
  }
 ],
 "metadata": {
  "kernelspec": {
   "display_name": "Python 3",
   "language": "python",
   "name": "python3"
  },
  "language_info": {
   "codemirror_mode": {
    "name": "ipython",
    "version": 3
   },
   "file_extension": ".py",
   "mimetype": "text/x-python",
   "name": "python",
   "nbconvert_exporter": "python",
   "pygments_lexer": "ipython3",
   "version": "3.7.0"
  }
 },
 "nbformat": 4,
 "nbformat_minor": 2
}
